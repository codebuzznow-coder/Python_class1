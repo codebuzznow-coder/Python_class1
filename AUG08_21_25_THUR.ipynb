{
  "nbformat": 4,
  "nbformat_minor": 0,
  "metadata": {
    "colab": {
      "provenance": [],
      "authorship_tag": "ABX9TyN70FYYQinHSjXt8EZsqCxB",
      "include_colab_link": true
    },
    "kernelspec": {
      "name": "python3",
      "display_name": "Python 3"
    },
    "language_info": {
      "name": "python"
    }
  },
  "cells": [
    {
      "cell_type": "markdown",
      "metadata": {
        "id": "view-in-github",
        "colab_type": "text"
      },
      "source": [
        "<a href=\"https://colab.research.google.com/github/codebuzznow-coder/Python_class1/blob/main/AUG08_21_25_THUR.ipynb\" target=\"_parent\"><img src=\"https://colab.research.google.com/assets/colab-badge.svg\" alt=\"Open In Colab\"/></a>"
      ]
    },
    {
      "cell_type": "markdown",
      "source": [],
      "metadata": {
        "id": "RdzG73LElnjX"
      }
    },
    {
      "cell_type": "markdown",
      "source": [
        "Home work question:\n",
        "Python is slow compared to other languages. Then why do we use it ?"
      ],
      "metadata": {
        "id": "f3Ozp4UunxnT"
      }
    },
    {
      "cell_type": "markdown",
      "source": [],
      "metadata": {
        "id": "6_uKVPV4n2hn"
      }
    },
    {
      "cell_type": "markdown",
      "source": [
        "Datatypes - to make sure your computer understands what type of data we are providing the machine, converts into Binary.\n",
        "\n",
        "Python is Interpreted language. Line by line execution.\n",
        "\n",
        "Data Types : int\n",
        "           : Boolean\n",
        "           : Float\n",
        "           : string\n",
        "           : complex\n",
        "           : NoneType\n",
        "\n",
        "\n",
        "           int include : whole numbers +ve and -ve numbers\n",
        "           Floats : Decimals\n",
        "           strings : \" within quotation marks are all strings\"\n",
        "           Boolean : True or False\n",
        "           NoneType: None\n",
        "           complex: ij\n",
        "\n",
        "  Variables: Any letter or character you use to assingn or hold a value\n",
        "  EX: x = 10 , 11\n",
        "\n",
        "  Variable is like a container to hold data and we use it when needed in the code. (it is meant to vary)\n",
        "\n",
        "  2 types of variables :\n",
        "  Dynamic - which keeps changing and other is\n",
        "  static - never changes.\n",
        "\n",
        "  Door number = is static .\n",
        "  age is changing\n",
        "\n",
        "  if x = 3\n",
        "     now when i update x = 10\n",
        "     what is the value of x\n",
        "     x = y\n",
        "     x = 24\n",
        "\n",
        "     what is the value of y ?\n",
        "     \n"
      ],
      "metadata": {
        "id": "Zz1z04L2mR89"
      }
    },
    {
      "cell_type": "code",
      "source": [
        "x = 10\n",
        "y = x\n",
        "print(y)\n",
        "\n",
        "x = 25\n",
        "print(y)\n",
        "print(x)\n"
      ],
      "metadata": {
        "colab": {
          "base_uri": "https://localhost:8080/"
        },
        "id": "5ia3U209lpTI",
        "outputId": "4f7e6ef3-2783-46fc-ed8e-6178cbf53089"
      },
      "execution_count": 3,
      "outputs": [
        {
          "output_type": "stream",
          "name": "stdout",
          "text": [
            "10\n",
            "10\n",
            "25\n"
          ]
        }
      ]
    },
    {
      "cell_type": "markdown",
      "source": [
        "variables names can be all upper case or lower case\n",
        "- No spaces\n",
        "- No special character in the start or beggining\n",
        "- Should not start with a number"
      ],
      "metadata": {
        "id": "LpcVKOxLv5rP"
      }
    },
    {
      "cell_type": "code",
      "source": [
        "apple = 1\n",
        "applefruit = 2"
      ],
      "metadata": {
        "id": "tNJkNN-WnYkd"
      },
      "execution_count": null,
      "outputs": []
    },
    {
      "cell_type": "code",
      "source": [
        "x = 3\n",
        "y = x\n",
        "print(y)"
      ],
      "metadata": {
        "colab": {
          "base_uri": "https://localhost:8080/"
        },
        "id": "dsZb-MiNwiUh",
        "outputId": "d464875c-070f-4000-cb7d-4207d4afd1b8"
      },
      "execution_count": 4,
      "outputs": [
        {
          "output_type": "stream",
          "name": "stdout",
          "text": [
            "3\n"
          ]
        }
      ]
    },
    {
      "cell_type": "markdown",
      "source": [],
      "metadata": {
        "id": "7nWkUw-Kw1Sl"
      }
    },
    {
      "cell_type": "code",
      "source": [
        "x = int(10)\n",
        "print(x)"
      ],
      "metadata": {
        "colab": {
          "base_uri": "https://localhost:8080/"
        },
        "id": "WtVoX_vUxBr7",
        "outputId": "132011bb-839d-4a96-f539-e088e0529283"
      },
      "execution_count": 6,
      "outputs": [
        {
          "output_type": "stream",
          "name": "stdout",
          "text": [
            "10\n"
          ]
        }
      ]
    },
    {
      "cell_type": "code",
      "source": [
        "y = float(10.2)\n",
        "print (y)"
      ],
      "metadata": {
        "colab": {
          "base_uri": "https://localhost:8080/"
        },
        "id": "wD9sKIQTxINS",
        "outputId": "05be08f6-4c93-4d0b-d9f3-bc9ab9aaa02f"
      },
      "execution_count": 7,
      "outputs": [
        {
          "output_type": "stream",
          "name": "stdout",
          "text": [
            "10.2\n"
          ]
        }
      ]
    },
    {
      "cell_type": "code",
      "source": [
        "z = True\n",
        "print(z)"
      ],
      "metadata": {
        "colab": {
          "base_uri": "https://localhost:8080/"
        },
        "id": "IXZYWkT7xOAi",
        "outputId": "94cc4f73-a142-44f3-d59b-44899bfdf3a6"
      },
      "execution_count": 8,
      "outputs": [
        {
          "output_type": "stream",
          "name": "stdout",
          "text": [
            "True\n"
          ]
        }
      ]
    },
    {
      "cell_type": "markdown",
      "source": [
        "There is an inbuilt function called type()"
      ],
      "metadata": {
        "id": "5Nfijkcwxc6s"
      }
    },
    {
      "cell_type": "code",
      "source": [
        "z = 10.9\n",
        "type(z)"
      ],
      "metadata": {
        "colab": {
          "base_uri": "https://localhost:8080/"
        },
        "id": "Pp7lOO6ZxXZ8",
        "outputId": "bbb93021-5b13-45e8-cb27-c4513095139f"
      },
      "execution_count": 9,
      "outputs": [
        {
          "output_type": "execute_result",
          "data": {
            "text/plain": [
              "float"
            ]
          },
          "metadata": {},
          "execution_count": 9
        }
      ]
    },
    {
      "cell_type": "code",
      "source": [
        "y = 25\n",
        "type(y)"
      ],
      "metadata": {
        "colab": {
          "base_uri": "https://localhost:8080/"
        },
        "id": "DGLoY-fvxkGg",
        "outputId": "af26e00c-aad1-4fee-a890-7a97220b9a26"
      },
      "execution_count": 10,
      "outputs": [
        {
          "output_type": "execute_result",
          "data": {
            "text/plain": [
              "int"
            ]
          },
          "metadata": {},
          "execution_count": 10
        }
      ]
    },
    {
      "cell_type": "code",
      "source": [
        "\n",
        "z = True\n",
        "type(z)"
      ],
      "metadata": {
        "colab": {
          "base_uri": "https://localhost:8080/"
        },
        "id": "YqUqlWR6xtAB",
        "outputId": "d805323d-fda3-4f59-a176-71575aeec28f"
      },
      "execution_count": 11,
      "outputs": [
        {
          "output_type": "execute_result",
          "data": {
            "text/plain": [
              "bool"
            ]
          },
          "metadata": {},
          "execution_count": 11
        }
      ]
    },
    {
      "cell_type": "code",
      "source": [
        "name = \"Abhi\"\n",
        "type(name)"
      ],
      "metadata": {
        "colab": {
          "base_uri": "https://localhost:8080/"
        },
        "id": "uRVzCl8mx0kf",
        "outputId": "38aa9766-53a2-4f03-d8dd-4085a8dd4e52"
      },
      "execution_count": 12,
      "outputs": [
        {
          "output_type": "execute_result",
          "data": {
            "text/plain": [
              "str"
            ]
          },
          "metadata": {},
          "execution_count": 12
        }
      ]
    },
    {
      "cell_type": "code",
      "source": [
        "name_of_the_student = \"Abhi\"\n",
        "print(name_of_the_student)"
      ],
      "metadata": {
        "colab": {
          "base_uri": "https://localhost:8080/"
        },
        "id": "k6cW_8Adx9ya",
        "outputId": "8c1a07e3-6ae8-4283-e65e-dc43556ef603"
      },
      "execution_count": 14,
      "outputs": [
        {
          "output_type": "stream",
          "name": "stdout",
          "text": [
            "Abhi\n"
          ]
        }
      ]
    },
    {
      "cell_type": "markdown",
      "source": [
        "another function called input ()\n",
        "\n",
        "- which will take values from user as input"
      ],
      "metadata": {
        "id": "1SI0WD9YyRMJ"
      }
    },
    {
      "cell_type": "code",
      "source": [
        "name_of_the_student = input(\"Enter your name\")\n",
        "print(name_of_the_student)"
      ],
      "metadata": {
        "colab": {
          "base_uri": "https://localhost:8080/"
        },
        "id": "emGLPmh5yOjX",
        "outputId": "fafe90dc-b047-402b-eac1-bb95bac5cb5c"
      },
      "execution_count": 17,
      "outputs": [
        {
          "output_type": "stream",
          "name": "stdout",
          "text": [
            "Enter your nameabhi\n",
            "abhi\n"
          ]
        }
      ]
    },
    {
      "cell_type": "markdown",
      "source": [
        "favorite_colour = input(\"enter your fav color\")\n",
        "print(\"My favorite colour is\", favorite_colour)"
      ],
      "metadata": {
        "id": "I29ii5pKyqI5"
      }
    },
    {
      "cell_type": "code",
      "source": [
        "favorite_colour = \"red\"\n",
        "print(\"My favorite colour is\", favorite_colour)"
      ],
      "metadata": {
        "colab": {
          "base_uri": "https://localhost:8080/"
        },
        "id": "RMJzj9yfzLMj",
        "outputId": "8f63811b-0929-4863-dd3e-e4a8b61ea05c"
      },
      "execution_count": 18,
      "outputs": [
        {
          "output_type": "stream",
          "name": "stdout",
          "text": [
            "My favorite colour is red\n"
          ]
        }
      ]
    },
    {
      "cell_type": "code",
      "source": [
        "favorite_colour = input(\"what is your fav colour\")\n",
        "print(\"My favorite colour is\", favorite_colour)"
      ],
      "metadata": {
        "colab": {
          "base_uri": "https://localhost:8080/"
        },
        "id": "0ZKEbh4ZzRE-",
        "outputId": "d16c2b82-fbd0-42f3-9c52-62bea73498cd"
      },
      "execution_count": 22,
      "outputs": [
        {
          "output_type": "stream",
          "name": "stdout",
          "text": [
            "what is your fav colourbrown\n",
            "My favorite colour is brown\n"
          ]
        }
      ]
    },
    {
      "cell_type": "code",
      "source": [
        "age = input(\"enter your age\")\n",
        "print(\"Your age is\", age)"
      ],
      "metadata": {
        "colab": {
          "base_uri": "https://localhost:8080/"
        },
        "id": "_fkobZ6Dzx-U",
        "outputId": "d683e6e7-a442-4ff7-e831-11e48d9b4ba8"
      },
      "execution_count": 31,
      "outputs": [
        {
          "output_type": "stream",
          "name": "stdout",
          "text": [
            "enter your age11.7\n",
            "Your age is 11.7\n"
          ]
        }
      ]
    },
    {
      "cell_type": "code",
      "source": [
        "type(age)"
      ],
      "metadata": {
        "colab": {
          "base_uri": "https://localhost:8080/"
        },
        "id": "4AopB2E20Fqi",
        "outputId": "77e3bb78-ef2a-471b-8132-c90114af8157"
      },
      "execution_count": 24,
      "outputs": [
        {
          "output_type": "execute_result",
          "data": {
            "text/plain": [
              "str"
            ]
          },
          "metadata": {},
          "execution_count": 24
        }
      ]
    },
    {
      "cell_type": "code",
      "source": [
        "age = float(input(\"enter your age\"))\n",
        "print(\"Your age is\", age)"
      ],
      "metadata": {
        "colab": {
          "base_uri": "https://localhost:8080/"
        },
        "id": "JQzOCy8p0Qxq",
        "outputId": "6df4ec4a-7a4d-4ec1-8c07-89adad85be96"
      },
      "execution_count": 30,
      "outputs": [
        {
          "output_type": "stream",
          "name": "stdout",
          "text": [
            "enter your age11.12\n",
            "Your age is 11.12\n"
          ]
        }
      ]
    },
    {
      "cell_type": "code",
      "source": [
        "type(age)"
      ],
      "metadata": {
        "colab": {
          "base_uri": "https://localhost:8080/"
        },
        "id": "dicoMKV80WIR",
        "outputId": "35cc1040-ba54-4cba-a461-af23203b5468"
      },
      "execution_count": 26,
      "outputs": [
        {
          "output_type": "execute_result",
          "data": {
            "text/plain": [
              "int"
            ]
          },
          "metadata": {},
          "execution_count": 26
        }
      ]
    },
    {
      "cell_type": "code",
      "source": [
        "x = \"saneeta\"\n",
        "type(x)"
      ],
      "metadata": {
        "colab": {
          "base_uri": "https://localhost:8080/"
        },
        "id": "CZsAEeoy1IVv",
        "outputId": "b4307d22-2e50-46f5-9347-350734ac501d"
      },
      "execution_count": 33,
      "outputs": [
        {
          "output_type": "execute_result",
          "data": {
            "text/plain": [
              "str"
            ]
          },
          "metadata": {},
          "execution_count": 33
        }
      ]
    },
    {
      "cell_type": "markdown",
      "source": [
        "Type casting - changing one datatype into another"
      ],
      "metadata": {
        "id": "KWaB495a1ebx"
      }
    },
    {
      "cell_type": "code",
      "source": [
        "a, b = 5, 10\n",
        "print(a, \",\", b)"
      ],
      "metadata": {
        "colab": {
          "base_uri": "https://localhost:8080/"
        },
        "id": "1-DRVxri3EDJ",
        "outputId": "7114ce3a-5e08-4e6c-df60-9d46d5fd5ea6"
      },
      "execution_count": 35,
      "outputs": [
        {
          "output_type": "stream",
          "name": "stdout",
          "text": [
            "5 , 10\n"
          ]
        }
      ]
    }
  ]
}